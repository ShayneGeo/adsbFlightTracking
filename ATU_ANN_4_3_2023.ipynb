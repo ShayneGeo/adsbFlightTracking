{
 "cells": [
  {
   "cell_type": "markdown",
   "id": "543a34e6-3258-463e-b1a6-a30658b7b85e",
   "metadata": {},
   "source": [
    "### Setting Up ATU drop data "
   ]
  },
  {
   "cell_type": "code",
   "execution_count": 1,
   "id": "c5ad1b0f-9fad-43c6-9151-c2adb3d353e7",
   "metadata": {},
   "outputs": [
    {
     "name": "stdout",
     "output_type": "stream",
     "text": [
      "(574, 25, 3)\n"
     ]
    }
   ],
   "source": [
    "import pandas as pd\n",
    "import numpy as np\n",
    "import glob\n",
    "\n",
    "dir_path = \"C:\\\\Users\\\\admin-magstadt\\\\Desktop\\\\Data_3_31_2023\\\\shortWAGL\\\\\"\n",
    "filenames = glob.glob(dir_path + \"*.csv\")\n",
    "\n",
    "data = []\n",
    "\n",
    "for filename in filenames:\n",
    "    num_rows = sum(1 for line in open(filename))\n",
    "    if num_rows < 26:\n",
    "        #print(f\"Skipping {filename}: less than 25 rows\")\n",
    "        continue\n",
    "    df = pd.read_csv(filename, usecols=[4,8,21], nrows=25, skiprows=num_rows-26)\n",
    "    arr = df.values.astype(float)\n",
    "    data.append(arr)\n",
    "\n",
    "if len(data) == 0:\n",
    "    print(\"No data found\")\n",
    "else:\n",
    "    array1 = np.stack(data, axis=0)\n",
    "    print(array1.shape)\n"
   ]
  },
  {
   "cell_type": "code",
   "execution_count": 4,
   "id": "bb18d5a4-87e2-4d30-a442-22d3d608b9cb",
   "metadata": {},
   "outputs": [
    {
     "name": "stdout",
     "output_type": "stream",
     "text": [
      "(1, 25, 3)\n"
     ]
    },
    {
     "data": {
      "text/plain": [
       "array([[[ 74.39721155, -10.07872   , 121.25387695],\n",
       "        [ 74.09601063, -12.67968   , 105.8172876 ],\n",
       "        [ 73.92257765,  -5.52704   ,  84.6509668 ],\n",
       "        [ 74.05492408,  -3.90144   ,  98.5180835 ],\n",
       "        [ 73.07278184,  -2.60096   , 109.01062744],\n",
       "        [ 72.52748208,  -4.55168   , 116.57337158],\n",
       "        [ 71.9927572 ,  -6.17728   , 124.3626123 ],\n",
       "        [ 71.28716424,  -7.47776   , 141.16474121],\n",
       "        [ 69.43469554,   0.97536   , 126.27179199],\n",
       "        [ 68.46938493,   0.32512   , 143.97967773],\n",
       "        [ 67.76615985,  -2.27584   , 131.63586182],\n",
       "        [ 67.95725405,   1.6256    , 127.20660645],\n",
       "        [ 67.95725405,   0.32512   ,  87.61401123],\n",
       "        [ 68.21186021,   2.92608   ,  48.73943359],\n",
       "        [ 68.72979541,  -2.60096   ,  48.9740625 ],\n",
       "        [ 68.28747561,  -2.92608   ,  33.16620117],\n",
       "        [ 69.52801539,  10.72896   ,  26.58045166],\n",
       "        [ 70.50886213,   7.80288   ,  41.68513184],\n",
       "        [ 71.4947612 ,   2.27584   ,  56.84406738],\n",
       "        [ 72.33931459,   0.32512   ,  99.4887207 ],\n",
       "        [ 73.50070829,  -1.95072   , 136.05452148],\n",
       "        [ 74.28685363,   1.6256    , 169.67897217],\n",
       "        [ 75.84691292,   0.65024   , 190.93776123],\n",
       "        [ 76.73669916,   0.32512   , 201.94490234],\n",
       "        [ 78.06338091,   0.        , 208.06306152]]])"
      ]
     },
     "execution_count": 4,
     "metadata": {},
     "output_type": "execute_result"
    }
   ],
   "source": [
    "import pandas as pd\n",
    "import numpy as np\n",
    "import glob\n",
    "\n",
    "dir_path = \"C:\\\\Users\\\\admin-magstadt\\\\Desktop\\\\forMatt\\\\\"\n",
    "filenames = glob.glob(dir_path + \"*.csv\")\n",
    "\n",
    "data = []\n",
    "\n",
    "for filename in filenames:\n",
    "    num_rows = sum(1 for line in open(filename))\n",
    "    if num_rows < 26:\n",
    "        #print(f\"Skipping {filename}: less than 25 rows\")\n",
    "        continue\n",
    "    df = pd.read_csv(filename, usecols=[4,8,21], nrows=25, skiprows=num_rows-26)\n",
    "    arr = df.values.astype(float)\n",
    "    data.append(arr)\n",
    "\n",
    "if len(data) == 0:\n",
    "    print(\"No data found\")\n",
    "else:\n",
    "    array1 = np.stack(data, axis=0)\n",
    "    print(array1.shape)\n",
    "\n"
   ]
  },
  {
   "cell_type": "markdown",
   "id": "84a5b5c3-056e-4009-ac21-775167f92fde",
   "metadata": {},
   "source": [
    "### Setting Up ATU NON-drop data "
   ]
  },
  {
   "cell_type": "code",
   "execution_count": 33,
   "id": "f0e8a12e-7f76-4b14-8fd5-38d942269ecb",
   "metadata": {},
   "outputs": [
    {
     "name": "stdout",
     "output_type": "stream",
     "text": [
      "(662, 25, 3)\n"
     ]
    }
   ],
   "source": [
    "import pandas as pd\n",
    "import numpy as np\n",
    "import glob\n",
    "\n",
    "dir_path = \"C:\\\\Users\\\\admin-magstadt\\\\Desktop\\\\Data_3_31_2023\\\\longWAGL\\\\\"\n",
    "filenames = glob.glob(dir_path + \"*.csv\")\n",
    "\n",
    "data = []\n",
    "\n",
    "for filename in filenames:\n",
    "    num_rows = sum(1 for line in open(filename))\n",
    "    if num_rows < 26:\n",
    "        #print(f\"Skipping {filename}: less than 25 rows\")\n",
    "        continue\n",
    "    df = pd.read_csv(filename, usecols=[4,8,21], nrows=25, skiprows=num_rows-26)\n",
    "    arr = df.values.astype(float)\n",
    "    data.append(arr)\n",
    "\n",
    "if len(data) == 0:\n",
    "    print(\"No data found\")\n",
    "else:\n",
    "    array2 = np.stack(data, axis=0)\n",
    "    print(array2.shape)"
   ]
  },
  {
   "cell_type": "code",
   "execution_count": 34,
   "id": "ee03dea2-a46f-4fbc-8556-6733c7e4df89",
   "metadata": {},
   "outputs": [
    {
     "data": {
      "text/plain": [
       "(1236, 25, 3)"
      ]
     },
     "execution_count": 34,
     "metadata": {},
     "output_type": "execute_result"
    }
   ],
   "source": [
    "combined_array = np.concatenate((array1, array2), axis=0)\n",
    "combined_array.shape\n",
    "\n"
   ]
  },
  {
   "cell_type": "code",
   "execution_count": null,
   "id": "715ccddb-41df-46ce-ba60-95525600677a",
   "metadata": {},
   "outputs": [],
   "source": []
  },
  {
   "cell_type": "code",
   "execution_count": 36,
   "id": "e00fd187-825c-4e7a-a85a-886b1d2efaf9",
   "metadata": {},
   "outputs": [],
   "source": [
    "weather_condition = np.concatenate((np.ones(array1.shape[0]), np.zeros(array2.shape[0])))\n",
    "weather_condition\n",
    "#weather_condition = weather_condition.astype(int)\n",
    "\n",
    "# Preprocess data (normalize to have zero mean and unit variance)\n",
    "mean = np.mean(weather_data)\n",
    "std = np.std(weather_data)\n",
    "weather_data = (weather_data - mean) / std\n",
    "\n",
    "train_data, test_data, train_labels, test_labels = train_test_split(combined_array, weather_condition, test_size=0.3, random_state=5545)\n",
    "train_data, val_data, train_labels, val_labels = train_test_split(train_data, train_labels, test_size=0.3, random_state=5545)\n"
   ]
  },
  {
   "cell_type": "code",
   "execution_count": 37,
   "id": "45443df1-8910-4b51-9047-632092d69a6b",
   "metadata": {},
   "outputs": [
    {
     "name": "stdout",
     "output_type": "stream",
     "text": [
      "Epoch 1/25\n",
      "152/152 [==============================] - 2s 5ms/step - loss: 5.5341 - accuracy: 0.7554 - val_loss: 12.4660 - val_accuracy: 0.7538\n",
      "Epoch 2/25\n",
      "152/152 [==============================] - 0s 3ms/step - loss: 4.3668 - accuracy: 0.7537 - val_loss: 2.7069 - val_accuracy: 0.7577\n",
      "Epoch 3/25\n",
      "152/152 [==============================] - 0s 3ms/step - loss: 1.4243 - accuracy: 0.7901 - val_loss: 2.6939 - val_accuracy: 0.6923\n",
      "Epoch 4/25\n",
      "152/152 [==============================] - 0s 3ms/step - loss: 0.7076 - accuracy: 0.8231 - val_loss: 1.3363 - val_accuracy: 0.7808\n",
      "Epoch 5/25\n",
      "152/152 [==============================] - 0s 3ms/step - loss: 0.7955 - accuracy: 0.8066 - val_loss: 4.9070 - val_accuracy: 0.7192\n",
      "Epoch 6/25\n",
      "152/152 [==============================] - 0s 3ms/step - loss: 0.9931 - accuracy: 0.8215 - val_loss: 1.5762 - val_accuracy: 0.8462\n",
      "Epoch 7/25\n",
      "152/152 [==============================] - 0s 3ms/step - loss: 0.5523 - accuracy: 0.8645 - val_loss: 1.7161 - val_accuracy: 0.8038\n",
      "Epoch 8/25\n",
      "152/152 [==============================] - 0s 3ms/step - loss: 0.4262 - accuracy: 0.8463 - val_loss: 1.6312 - val_accuracy: 0.7615\n",
      "Epoch 9/25\n",
      "152/152 [==============================] - 0s 3ms/step - loss: 0.3666 - accuracy: 0.8727 - val_loss: 1.3359 - val_accuracy: 0.7962\n",
      "Epoch 10/25\n",
      "152/152 [==============================] - 0s 3ms/step - loss: 0.3188 - accuracy: 0.8661 - val_loss: 1.3293 - val_accuracy: 0.7846\n",
      "Epoch 11/25\n",
      "152/152 [==============================] - 0s 3ms/step - loss: 0.3474 - accuracy: 0.8810 - val_loss: 1.3849 - val_accuracy: 0.8423\n",
      "Epoch 12/25\n",
      "152/152 [==============================] - 0s 3ms/step - loss: 0.4491 - accuracy: 0.8678 - val_loss: 1.7169 - val_accuracy: 0.8115\n",
      "Epoch 13/25\n",
      "152/152 [==============================] - 0s 3ms/step - loss: 0.7490 - accuracy: 0.8281 - val_loss: 2.2791 - val_accuracy: 0.7577\n",
      "Epoch 14/25\n",
      "152/152 [==============================] - 0s 3ms/step - loss: 0.3825 - accuracy: 0.8711 - val_loss: 1.9516 - val_accuracy: 0.8385\n",
      "Epoch 15/25\n",
      "152/152 [==============================] - 0s 3ms/step - loss: 0.3563 - accuracy: 0.8579 - val_loss: 1.9489 - val_accuracy: 0.8192\n",
      "Epoch 16/25\n",
      "152/152 [==============================] - 0s 3ms/step - loss: 0.2699 - accuracy: 0.8860 - val_loss: 1.7733 - val_accuracy: 0.8423\n",
      "Epoch 17/25\n",
      "152/152 [==============================] - 0s 3ms/step - loss: 0.2865 - accuracy: 0.8810 - val_loss: 1.9261 - val_accuracy: 0.8308\n",
      "Epoch 18/25\n",
      "152/152 [==============================] - 0s 3ms/step - loss: 0.2678 - accuracy: 0.8926 - val_loss: 1.7101 - val_accuracy: 0.8385\n",
      "Epoch 19/25\n",
      "152/152 [==============================] - 0s 3ms/step - loss: 0.2681 - accuracy: 0.8793 - val_loss: 1.6271 - val_accuracy: 0.8308\n",
      "Epoch 20/25\n",
      "152/152 [==============================] - 0s 3ms/step - loss: 0.2530 - accuracy: 0.8826 - val_loss: 1.4716 - val_accuracy: 0.8269\n",
      "Epoch 21/25\n",
      "152/152 [==============================] - 0s 3ms/step - loss: 0.2284 - accuracy: 0.8992 - val_loss: 1.4981 - val_accuracy: 0.8423\n",
      "Epoch 22/25\n",
      "152/152 [==============================] - 0s 3ms/step - loss: 0.2528 - accuracy: 0.8826 - val_loss: 1.4233 - val_accuracy: 0.8346\n",
      "Epoch 23/25\n",
      "152/152 [==============================] - 0s 3ms/step - loss: 0.2347 - accuracy: 0.8926 - val_loss: 1.6114 - val_accuracy: 0.8269\n",
      "Epoch 24/25\n",
      "152/152 [==============================] - 0s 3ms/step - loss: 0.4089 - accuracy: 0.8876 - val_loss: 1.1834 - val_accuracy: 0.8538\n",
      "Epoch 25/25\n",
      "152/152 [==============================] - 0s 3ms/step - loss: 0.3366 - accuracy: 0.8810 - val_loss: 1.9106 - val_accuracy: 0.8346\n",
      "12/12 [==============================] - 0s 2ms/step - loss: 1.8618 - accuracy: 0.8113\n",
      "Test accuracy: 0.8113207817077637\n"
     ]
    }
   ],
   "source": [
    "# Define CNN architecture\n",
    "model = Sequential()\n",
    "model.add(Conv1D(filters=32, kernel_size=5, activation='relu', input_shape=(25, 3)))\n",
    "model.add(MaxPooling1D(pool_size=2))\n",
    "model.add(Conv1D(filters=64, kernel_size=3, activation='relu'))\n",
    "model.add(MaxPooling1D(pool_size=2))\n",
    "model.add(Flatten())\n",
    "model.add(Dense(64, activation='relu'))\n",
    "model.add(Dense(1, activation='sigmoid'))\n",
    "\n",
    "# Compile the model\n",
    "model.compile(optimizer='adam', loss='binary_crossentropy', metrics=['accuracy'])\n",
    "\n",
    "# Train the model\n",
    "model.fit(train_data, train_labels, validation_data=(val_data, val_labels), epochs=25, batch_size=4)\n",
    "\n",
    "# Evaluate the model on test set\n",
    "test_loss, test_acc = model.evaluate(test_data, test_labels)\n",
    "print('Test accuracy:', test_acc)"
   ]
  },
  {
   "cell_type": "code",
   "execution_count": 38,
   "id": "404af876-1678-48f2-83a4-52c6ad9a5041",
   "metadata": {},
   "outputs": [
    {
     "name": "stdout",
     "output_type": "stream",
     "text": [
      "12/12 [==============================] - 0s 2ms/step\n"
     ]
    },
    {
     "data": {
      "image/png": "[encoded data removed]",
      "text/plain": [
       "<Figure size 640x480 with 2 Axes>"
      ]
     },
     "metadata": {},
     "output_type": "display_data"
    }
   ],
   "source": [
    "from sklearn.metrics import confusion_matrix\n",
    "import matplotlib.pyplot as plt\n",
    "import seaborn as sns\n",
    "\n",
    "# Get the predicted labels for the test set\n",
    "y_pred = model.predict(test_data)\n",
    "y_pred = (y_pred > 0.5).astype(int)\n",
    "\n",
    "# Generate the confusion matrix\n",
    "cm = confusion_matrix(test_labels, y_pred)\n",
    "\n",
    "# Plot the confusion matrix\n",
    "sns.heatmap(cm, annot=True, cmap='Blues')\n",
    "plt.xlabel('Predicted Labels')\n",
    "plt.ylabel('True Labels')\n",
    "plt.show()\n"
   ]
  },
  {
   "cell_type": "code",
   "execution_count": 39,
   "id": "e3f67d3c-d1bf-46f1-9e18-17bf72117c60",
   "metadata": {},
   "outputs": [
    {
     "name": "stdout",
     "output_type": "stream",
     "text": [
      "12/12 [==============================] - 0s 2ms/step\n",
      "AUC: 0.8753051970701082\n"
     ]
    }
   ],
   "source": [
    "from sklearn.metrics import roc_auc_score\n",
    "\n",
    "# Predict probabilities for the test set\n",
    "y_pred_prob = model.predict(test_data)\n",
    "\n",
    "# Calculate AUC score\n",
    "auc = roc_auc_score(test_labels, y_pred_prob)\n",
    "\n",
    "print('AUC:', auc)\n"
   ]
  },
  {
   "cell_type": "code",
   "execution_count": 41,
   "id": "ccd02072-a32d-4077-8960-0672f6d1c042",
   "metadata": {},
   "outputs": [
    {
     "name": "stdout",
     "output_type": "stream",
     "text": [
      "12/12 [==============================] - 0s 2ms/step\n"
     ]
    },
    {
     "data": {
      "image/png": "[encoded data removed]",
      "text/plain": [
       "<Figure size 640x480 with 1 Axes>"
      ]
     },
     "metadata": {},
     "output_type": "display_data"
    }
   ],
   "source": [
    "from sklearn.metrics import roc_curve, auc\n",
    "\n",
    "# Predict the probabilities of the test set\n",
    "y_pred_prob = model.predict(test_data)\n",
    "\n",
    "# Calculate the false positive rate (FPR), true positive rate (TPR), and threshold values for the ROC curve\n",
    "fpr, tpr, thresholds = roc_curve(test_labels, y_pred_prob)\n",
    "\n",
    "# Calculate the ROC AUC score\n",
    "roc_auc = auc(fpr, tpr)\n",
    "\n",
    "# Plot the ROC curve\n",
    "import matplotlib.pyplot as plt\n",
    "plt.plot(fpr, tpr, label=f'ROC AUC = {roc_auc:.2f}')\n",
    "plt.xlabel('False Positive Rate')\n",
    "plt.ylabel('True Positive Rate')\n",
    "plt.legend()\n",
    "plt.show()\n"
   ]
  },
  {
   "cell_type": "code",
   "execution_count": null,
   "id": "ec63df8e-18d6-40fe-bf94-bd5ca249f2a5",
   "metadata": {},
   "outputs": [],
   "source": []
  },
  {
   "cell_type": "code",
   "execution_count": 1,
   "id": "ae3c3707-aca0-4b99-bfb2-196fd43f27df",
   "metadata": {},
   "outputs": [],
   "source": [
    "import numpy as np\n",
    "from keras.models import Sequential\n",
    "from keras.layers import Conv1D, MaxPooling1D, Flatten, Dense\n",
    "from sklearn.model_selection import train_test_split\n"
   ]
  },
  {
   "cell_type": "markdown",
   "id": "4e57278a-179d-4faa-8a53-2b62cc709b4d",
   "metadata": {},
   "source": [
    "### ANN modeling"
   ]
  },
  {
   "cell_type": "code",
   "execution_count": null,
   "id": "a7625543-eb23-4030-9496-541e823e2143",
   "metadata": {},
   "outputs": [
    {
     "ename": "NameError",
     "evalue": "name 'combined_array_DROP' is not defined",
     "output_type": "error",
     "traceback": [
      "\u001b[1;31m---------------------------------------------------------------------------\u001b[0m",
      "\u001b[1;31mNameError\u001b[0m                                 Traceback (most recent call last)",
      "Cell \u001b[1;32mIn[19], line 14\u001b[0m\n\u001b[0;32m      8\u001b[0m weather_data \u001b[38;5;241m=\u001b[39m combined_array\n\u001b[0;32m     10\u001b[0m \u001b[38;5;66;03m# Define output data (weather condition at the next time step)\u001b[39;00m\n\u001b[0;32m     11\u001b[0m \u001b[38;5;66;03m#weather_condition = np.random.randint(0, 2, size=(1000, 1))  # 0 = not sunny, 1 = sunny\u001b[39;00m\n\u001b[0;32m     12\u001b[0m \u001b[38;5;66;03m#weather_condition = np.array([1,1,0,0,1,1,1,0,0])\u001b[39;00m\n\u001b[0;32m     13\u001b[0m \u001b[38;5;66;03m#weather_condition = np.random.choice([0, 1], size=176, p=[0.9, 0.1])\u001b[39;00m\n\u001b[1;32m---> 14\u001b[0m weather_condition \u001b[38;5;241m=\u001b[39m np\u001b[38;5;241m.\u001b[39mconcatenate((np\u001b[38;5;241m.\u001b[39mones(\u001b[43mcombined_array_DROP\u001b[49m\u001b[38;5;241m.\u001b[39mshape[\u001b[38;5;241m0\u001b[39m]), np\u001b[38;5;241m.\u001b[39mzeros(combined_array_noDROP\u001b[38;5;241m.\u001b[39mshape[\u001b[38;5;241m0\u001b[39m])))\u001b[38;5;66;03m#, np.random.choice([0, 1], size=176-92-92, p=[0.9, 0.1])))\u001b[39;00m\n\u001b[0;32m     15\u001b[0m \u001b[38;5;66;03m#weather_condition = np.random.randint(0, 1, size=(184, 1))  # 0 = not sunny, 1 = sunny\u001b[39;00m\n\u001b[0;32m     16\u001b[0m weather_condition\n",
      "\u001b[1;31mNameError\u001b[0m: name 'combined_array_DROP' is not defined"
     ]
    }
   ],
   "source": [
    "import numpy as np\n",
    "from keras.models import Sequential\n",
    "from keras.layers import Conv1D, MaxPooling1D, Flatten, Dense\n",
    "from sklearn.model_selection import train_test_split\n",
    "\n",
    "# Define input data (24 hours of weather measurements)\n",
    "#weather_data = np.random.rand(1000, 24, 4)  # 1000 samples, 24 time steps, 5 features\n",
    "weather_data = combined_array\n",
    "\n",
    "# Define output data (weather condition at the next time step)\n",
    "#weather_condition = np.random.randint(0, 2, size=(1000, 1))  # 0 = not sunny, 1 = sunny\n",
    "#weather_condition = np.array([1,1,0,0,1,1,1,0,0])\n",
    "#weather_condition = np.random.choice([0, 1], size=176, p=[0.9, 0.1])\n",
    "weather_condition = np.concatenate((np.ones(combined_array_DROP.shape[0]), np.zeros(combined_array_noDROP.shape[0])))#, np.random.choice([0, 1], size=176-92-92, p=[0.9, 0.1])))\n",
    "#weather_condition = np.random.randint(0, 1, size=(184, 1))  # 0 = not sunny, 1 = sunny\n",
    "\n",
    "\n",
    "#weather_condition = weather_condition.astype(int)\n",
    "\n",
    "# Preprocess data (normalize to have zero mean and unit variance)\n",
    "mean = np.mean(weather_data)\n",
    "std = np.std(weather_data)\n",
    "weather_data = (weather_data - mean) / std\n",
    "\n",
    "train_data, test_data, train_labels, test_labels = train_test_split(weather_data, weather_condition, test_size=0.3, random_state=555)\n",
    "train_data, val_data, train_labels, val_labels = train_test_split(train_data, train_labels, test_size=0.3, random_state=555)\n",
    "\n",
    "\n",
    "#Split data into training, validation, and test sets\n",
    "#train_data = np.array(weather_data[:40])\n",
    "#train_labels = np.array(weather_condition[:40])\n",
    "#val_data = np.array(weather_data[40:70])\n",
    "#val_labels = np.array(weather_condition[40:70])\n",
    "#test_data = np.array(weather_data[70:176])\n",
    "#test_labels = np.array(weather_condition[70:176])\n",
    "\n",
    "# import numpy as np\n",
    "\n",
    "# def split_data(data, labels, train_ratio, val_ratio, test_ratio):\n",
    "#     assert train_ratio + val_ratio + test_ratio == 1.0, \"Split ratios must add up to 1.0\"\n",
    "    \n",
    "#     # Calculate number of samples for each split\n",
    "#     num_samples = len(data)\n",
    "#     num_train = int(num_samples * train_ratio)\n",
    "#     num_val = int(num_samples * val_ratio)\n",
    "#     num_test = num_samples - num_train - num_val\n",
    "    \n",
    "#     # Shuffle the data and labels\n",
    "#     idx = np.random.permutation(num_samples)\n",
    "#     data = data[idx]\n",
    "#     labels = labels[idx]\n",
    "    \n",
    "#     # Split the data and labels\n",
    "#     train_data = data[:num_train]\n",
    "#     train_labels = labels[:num_train]\n",
    "#     val_data = data[num_train:num_train+num_val]\n",
    "#     val_labels = labels[num_train:num_train+num_val]\n",
    "#     test_data = data[num_train+num_val:]\n",
    "#     test_labels = labels[num_train+num_val:]\n",
    "    \n",
    "#     return train_data, train_labels, val_data, val_labels, test_data, test_labels\n",
    "# train_data, train_labels, val_data, val_labels, test_data, test_labels = split_data(weather_data, weather_condition, 0.4, 0.3, 0.3)\n",
    "\n",
    "##\n",
    "\n",
    "# Define CNN architecture\n",
    "model = Sequential()\n",
    "model.add(Conv1D(filters=32, kernel_size=5, activation='relu', input_shape=(25, 2)))\n",
    "model.add(MaxPooling1D(pool_size=2))\n",
    "model.add(Conv1D(filters=64, kernel_size=3, activation='relu'))\n",
    "model.add(MaxPooling1D(pool_size=2))\n",
    "model.add(Flatten())\n",
    "model.add(Dense(64, activation='relu'))\n",
    "model.add(Dense(1, activation='sigmoid'))\n",
    "\n",
    "# Compile the model\n",
    "model.compile(optimizer='adam', loss='binary_crossentropy', metrics=['accuracy'])\n",
    "\n",
    "# Train the model\n",
    "model.fit(train_data, train_labels, validation_data=(val_data, val_labels), epochs=25, batch_size=4)\n",
    "\n",
    "# Evaluate the model on test set\n",
    "test_loss, test_acc = model.evaluate(test_data, test_labels)\n",
    "print('Test accuracy:', test_acc)"
   ]
  },
  {
   "cell_type": "code",
   "execution_count": null,
   "id": "323a6886-41a3-44b4-8734-4d9c4a87eda1",
   "metadata": {},
   "outputs": [],
   "source": []
  },
  {
   "cell_type": "code",
   "execution_count": null,
   "id": "04020cf7-7810-4a91-bdb2-aa967d24a0ec",
   "metadata": {},
   "outputs": [],
   "source": []
  },
  {
   "cell_type": "code",
   "execution_count": null,
   "id": "c9bb529e-5477-4d84-a324-a714e02be526",
   "metadata": {},
   "outputs": [],
   "source": []
  },
  {
   "cell_type": "code",
   "execution_count": null,
   "id": "ab1b5d05-cf67-4bb7-a59b-58d48bba11ea",
   "metadata": {},
   "outputs": [],
   "source": []
  },
  {
   "cell_type": "code",
   "execution_count": 17,
   "id": "56c4d0d3-71fc-47e3-8fa6-435985454b64",
   "metadata": {},
   "outputs": [],
   "source": [
    "# import pandas as pd\n",
    "# import numpy as np\n",
    "# import glob\n",
    "# # filenames = [\"C:\\\\Users\\\\magst\\\\Desktop\\\\adsboutputs\\\\N130CG_2019_142_22_22_42.txt\", \n",
    "# #              \"C:\\\\Users\\\\magst\\\\Desktop\\\\adsboutputs\\\\N137CG_2020_226_23_32_07.txt\", \n",
    "# #              \"C:\\\\Users\\\\magst\\\\Desktop\\\\adsboutputs\\\\N137CG_2020_227_00_32_58.txt\",\n",
    "# #              \"C:\\\\Users\\\\magst\\\\Desktop\\\\adsboutputs\\\\N130CG_2019_142_22_22_42.txt\", \n",
    "# #              \"C:\\\\Users\\\\magst\\\\Desktop\\\\adsboutputs\\\\N137CG_2020_226_23_32_07.txt\", \n",
    "# #              \"C:\\\\Users\\\\magst\\\\Desktop\\\\adsboutputs\\\\N137CG_2020_227_00_32_58.txt\",\n",
    "# #              \"C:\\\\Users\\\\magst\\\\Desktop\\\\adsboutputs\\\\N130CG_2019_142_22_22_42.txt\", \n",
    "# #              \"C:\\\\Users\\\\magst\\\\Desktop\\\\adsboutputs\\\\N137CG_2020_226_23_32_07.txt\", \n",
    "# #              \"C:\\\\Users\\\\magst\\\\Desktop\\\\adsboutputs\\\\N137CG_2020_227_00_32_58.txt\"]\n",
    "# # create a list of file paths to all CSV files in a directory\n",
    "# #dir_path = \"C:\\\\Users\\\\magst\\\\Desktop\\\\Drops_3_3_2023\\\\dropsamplesCSV\\\\\"\n",
    "# #dir_path = \"C:\\\\Users\\\\admin-magstadt\\\\Desktop\\\\Data_3_31_2023\\\\\"\n",
    "# dir_path = \"C:\\\\Users\\\\admin-magstadt\\\\Desktop\\\\Data_3_31_2023\\\\shortWAGL\\\\\"\n",
    "\n",
    "# filenames = glob.glob(dir_path + \"*.csv\")#[:92] \n",
    "# #filenames.pop(151)\n",
    "# #filenames.pop(91)\n",
    "# #filenames.pop(92)\n",
    "# #filenames.pop(96)\n",
    "# #filenames.pop(93)\n",
    "\n",
    "# # initialize empty list to store data\n",
    "# data = []\n",
    "\n",
    "# # loop over the list of filenames\n",
    "# for filename in filenames:\n",
    "#     # read the file as a DataFrame, selecting only the desired columns\n",
    "#     #df = pd.read_csv(filename,usecols=[4, 5, 6], nrows=29)#, usecols=[2, 3, 6], delim_whitespace=True, header=None, nrows=24*5)\n",
    "#     num_rows = sum(1 for line in open(filename))\n",
    "#     if num_rows < 24:\n",
    "#         print(f\"Skipping {filename}: less than 25 rows\")\n",
    "#         continue\n",
    "\n",
    "#     # Read the last 29 samples from the file\n",
    "#     #df = pd.read_csv(filename, usecols=[7], skiprows=range(1, num_rows-25), nrows=25)\n",
    "    \n",
    "#     df = pd.read_csv(filename, usecols=[5,7], nrows=25, skiprows=num_rows-26)#, usecols=['velocity', 'vertrate'])#, usecols=[2, 3, 6], delim_whitespace=True, header=None, nrows=24*5)\n",
    "#     #print(df.columns)\n",
    "#     #print(len(df))\n",
    "#     # convert the DataFrame to a 2D NumPy array of floats\n",
    "#     arr = df.values.astype(float)\n",
    "#     # add the array to the list of data\n",
    "#     data.append(arr)\n",
    "\n",
    "# # stack the data into a 3D array of shape (3, 24, 3)\n",
    "# array1 = np.stack(data, axis=0)\n",
    "\n",
    "# # view the shape of the array\n",
    "# print(array1.shape)\n",
    "# #df = pd.read_csv(\"C:\\\\Users\\\\magst\\\\Desktop\\\\adsboutputs\\\\N130CG_2019_142_22_22_42.txt\",usecols=[4, 5, 6])#, usecols=[2, 3, 6], delim_whitespace=True, header=None, nrows=24*5)\n",
    "# #df\n",
    "# # import pandas as pd\n",
    "# # arr= pd.read_csv(\"C:\\\\Users\\\\magst\\\\Desktop\\\\adsboutputs\\\\N137CG_2020_227_00_32_58.txt\")\n",
    "# # arr.shape\n",
    "# #array1"
   ]
  },
  {
   "cell_type": "code",
   "execution_count": null,
   "id": "d2abe890-b27f-447c-9dff-e8c0691c428a",
   "metadata": {},
   "outputs": [],
   "source": []
  },
  {
   "cell_type": "code",
   "execution_count": null,
   "id": "fb8b4322-3470-4d68-8675-d8fe671ca326",
   "metadata": {},
   "outputs": [],
   "source": []
  },
  {
   "cell_type": "code",
   "execution_count": null,
   "id": "ff15379f-8175-46de-8e6b-7d1b0ffc3418",
   "metadata": {},
   "outputs": [],
   "source": []
  },
  {
   "cell_type": "code",
   "execution_count": null,
   "id": "71d6f300-9fdb-4e69-9d22-489e7d3fa466",
   "metadata": {},
   "outputs": [],
   "source": []
  },
  {
   "cell_type": "code",
   "execution_count": null,
   "id": "3ddc7c6c-eb70-4439-93e9-808ff285256f",
   "metadata": {},
   "outputs": [],
   "source": []
  }
 ],
 "metadata": {
  "kernelspec": {
   "display_name": "Python 3 (ipykernel)",
   "language": "python",
   "name": "python3"
  },
  "language_info": {
   "codemirror_mode": {
    "name": "ipython",
    "version": 3
   },
   "file_extension": ".py",
   "mimetype": "text/x-python",
   "name": "python",
   "nbconvert_exporter": "python",
   "pygments_lexer": "ipython3",
   "version": "3.9.16"
  }
 },
 "nbformat": 4,
 "nbformat_minor": 5
}
